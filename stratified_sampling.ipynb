{
 "cells": [
  {
   "cell_type": "code",
   "execution_count": 23,
   "id": "1cc6dcf6",
   "metadata": {},
   "outputs": [],
   "source": [
    "import pandas as pd\n",
    "import numpy as np\n",
    "from sklearn.model_selection import train_test_split"
   ]
  },
  {
   "cell_type": "code",
   "execution_count": 24,
   "id": "02b51a22",
   "metadata": {},
   "outputs": [],
   "source": [
    "df = pd.read_csv('SPARQL_questions.csv')"
   ]
  },
  {
   "cell_type": "code",
   "execution_count": 25,
   "id": "a118a2d7",
   "metadata": {},
   "outputs": [],
   "source": [
    "df = df.drop_duplicates()\n",
    "df = df[df['Task Type'].isin(['Membership', 'Property Assertion'])]\n",
    "df.loc[:, 'Task ID temp'] = df['Task ID'].str.replace(r'-(BIN|MC)$', '', regex=True)"
   ]
  },
  {
   "cell_type": "code",
   "execution_count": 26,
   "id": "c44d88e0",
   "metadata": {},
   "outputs": [
    {
     "data": {
      "text/plain": [
       "28961"
      ]
     },
     "execution_count": 26,
     "metadata": {},
     "output_type": "execute_result"
    }
   ],
   "source": [
    "len(df)"
   ]
  },
  {
   "cell_type": "markdown",
   "id": "5bab58b1",
   "metadata": {},
   "source": [
    "**Step 1: Create bins for each variable**"
   ]
  },
  {
   "cell_type": "code",
   "execution_count": 27,
   "id": "07acaf2a",
   "metadata": {},
   "outputs": [],
   "source": [
    "bin_edges = np.histogram_bin_edges(df['Size of ontology ABox'], bins='auto')\n",
    "df['Bin_Size of ontology ABox'] = pd.cut(df['Size of ontology ABox'], bins=bin_edges, labels=False)\n",
    "\n",
    "bin_edges = np.histogram_bin_edges(df['Avg Min Explanation Size'], bins='auto')\n",
    "df['Bin_Avg Min Explanation Size'] = pd.cut(df['Avg Min Explanation Size'], bins=bin_edges, labels=False)"
   ]
  },
  {
   "cell_type": "markdown",
   "id": "bf3a6c9a",
   "metadata": {},
   "source": [
    "**Step 2:  Combine bins into a single stratification key**"
   ]
  },
  {
   "cell_type": "code",
   "execution_count": 28,
   "id": "a12723ce",
   "metadata": {},
   "outputs": [],
   "source": [
    "df['strata'] = df['Bin_Size of ontology ABox'].astype(str) + '_' + df['Bin_Avg Min Explanation Size'].astype(str) "
   ]
  },
  {
   "cell_type": "markdown",
   "id": "b729dd94",
   "metadata": {},
   "source": [
    "**Step 3: Do stratified sampling**"
   ]
  },
  {
   "cell_type": "code",
   "execution_count": 29,
   "id": "bf89909e",
   "metadata": {},
   "outputs": [],
   "source": [
    "# Step 1: Get unique groups \n",
    "df_groups = df.groupby('Task ID temp').first().reset_index()"
   ]
  },
  {
   "cell_type": "code",
   "execution_count": 30,
   "id": "3a4140dc",
   "metadata": {},
   "outputs": [],
   "source": [
    "# Step 2: Filter groups with at least 2 samples in the same strata\n",
    "strata_counts = df_groups['strata'].value_counts()\n",
    "valid_strata = strata_counts[strata_counts >= 2].index\n",
    "df_filtered = df_groups[df_groups['strata'].isin(valid_strata)]"
   ]
  },
  {
   "cell_type": "code",
   "execution_count": 31,
   "id": "f1ff97c6",
   "metadata": {},
   "outputs": [],
   "source": [
    "# Step 3: Stratified split at group level\n",
    "train_groups, test_groups = train_test_split(\n",
    "    df_filtered['Task ID temp'],\n",
    "    test_size=0.95,\n",
    "    stratify=df_filtered['strata'],\n",
    "    random_state=42\n",
    ")"
   ]
  },
  {
   "cell_type": "code",
   "execution_count": 32,
   "id": "5aa3e6bf",
   "metadata": {},
   "outputs": [],
   "source": [
    "# Step 4: Assign split back to original df rows based on group membership\n",
    "df['split'] = 'test'  \n",
    "df.loc[df['Task ID temp'].isin(train_groups), 'split'] = 'train'"
   ]
  },
  {
   "cell_type": "code",
   "execution_count": 33,
   "id": "88df6182",
   "metadata": {},
   "outputs": [
    {
     "data": {
      "text/plain": [
       "1473"
      ]
     },
     "execution_count": 33,
     "metadata": {},
     "output_type": "execute_result"
    }
   ],
   "source": [
    "len(df[df['split'] == 'train'])"
   ]
  },
  {
   "cell_type": "code",
   "execution_count": 34,
   "id": "05be8dc0",
   "metadata": {},
   "outputs": [],
   "source": [
    "df[df['split'] == 'train'].to_csv(\"SPARQL_questions_sampling.csv\", index=False)"
   ]
  }
 ],
 "metadata": {
  "kernelspec": {
   "display_name": "Python 3",
   "language": "python",
   "name": "python3"
  },
  "language_info": {
   "codemirror_mode": {
    "name": "ipython",
    "version": 3
   },
   "file_extension": ".py",
   "mimetype": "text/x-python",
   "name": "python",
   "nbconvert_exporter": "python",
   "pygments_lexer": "ipython3",
   "version": "3.12.7"
  }
 },
 "nbformat": 4,
 "nbformat_minor": 5
}
